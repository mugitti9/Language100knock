{
 "cells": [
  {
   "cell_type": "code",
   "execution_count": 1,
   "metadata": {},
   "outputs": [],
   "source": [
    "#事前準備\n",
    "import pandas as pd\n",
    "data = pd.read_table(\"/Users/mugikurashuta/Program/Anaconda/Lang_Nock100/2nd/popular-names.txt\", header=None, sep='\\t', names=['name', 'sex', 'number', 'year'])"
   ]
  },
  {
   "cell_type": "code",
   "execution_count": 2,
   "metadata": {},
   "outputs": [
    {
     "name": "stdout",
     "output_type": "stream",
     "text": [
      "2780\n"
     ]
    }
   ],
   "source": [
    "#10\n",
    "print(len(data))\n",
    "df = pd.read_table('./popular-names.txt', header=None, sep='\\t', names=['name', 'sex', 'number', 'year'])"
   ]
  },
  {
   "cell_type": "code",
   "execution_count": 3,
   "metadata": {},
   "outputs": [],
   "source": [
    "#12\n",
    "col1=data[\"name\"]\n",
    "col2=data[\"sex\"]\n",
    "col1.to_csv(\"/Users/mugikurashuta/Program/Anaconda/Lang_Nock100/2nd/col1_python.txt\",index=None,header=None)\n",
    "col2.to_csv(\"/Users/mugikurashuta/Program/Anaconda/Lang_Nock100/2nd/col2_python.txt\",index=None,header=None)"
   ]
  },
  {
   "cell_type": "code",
   "execution_count": 4,
   "metadata": {},
   "outputs": [],
   "source": [
    "#13\n",
    "merge_col=pd.concat([col1, col2], axis=1)"
   ]
  },
  {
   "cell_type": "code",
   "execution_count": 5,
   "metadata": {},
   "outputs": [
    {
     "name": "stdout",
     "output_type": "stream",
     "text": [
      "2\n",
      "   name sex  number  year\n",
      "0  Mary   F    7065  1880\n",
      "1  Anna   F    2604  1880\n"
     ]
    }
   ],
   "source": [
    "#14\n",
    "number=int(input())\n",
    "first_data=data[0:number]\n",
    "print(first_data)"
   ]
  },
  {
   "cell_type": "code",
   "execution_count": 6,
   "metadata": {},
   "outputs": [
    {
     "name": "stdout",
     "output_type": "stream",
     "text": [
      "2\n",
      "       name sex  number  year\n",
      "2778  Mason   M   12435  2018\n",
      "2779  Logan   M   12352  2018\n"
     ]
    }
   ],
   "source": [
    "#15\n",
    "number=int(input())\n",
    "end_data=data[len(data)-number:]\n",
    "print(end_data)"
   ]
  },
  {
   "cell_type": "code",
   "execution_count": 7,
   "metadata": {},
   "outputs": [
    {
     "name": "stdout",
     "output_type": "stream",
     "text": [
      "0    278\n",
      "1    278\n",
      "2    278\n",
      "3    278\n",
      "4    278\n",
      "5    278\n",
      "6    278\n",
      "7    278\n",
      "8    278\n",
      "9    278\n",
      "Name: sp, dtype: int64\n"
     ]
    }
   ],
   "source": [
    "#16\n",
    "def split_file(N):\n",
    "    tmp = data.reset_index(drop=False)\n",
    "    df_cut = pd.qcut(tmp.index, N, labels=[i for i in range(N)])\n",
    "    df_cut = pd.concat([df, pd.Series(df_cut, name='sp')], axis=1)\n",
    "\n",
    "    return df_cut\n",
    "\n",
    "df_cut = split_file(10)\n",
    "print(df_cut['sp'].value_counts())"
   ]
  },
  {
   "cell_type": "code",
   "execution_count": 8,
   "metadata": {},
   "outputs": [
    {
     "name": "stdout",
     "output_type": "stream",
     "text": [
      "136\n"
     ]
    }
   ],
   "source": [
    "#17\n",
    "print(len(df.drop_duplicates(subset='name')))"
   ]
  },
  {
   "cell_type": "code",
   "execution_count": 9,
   "metadata": {},
   "outputs": [
    {
     "name": "stdout",
     "output_type": "stream",
     "text": [
      "         name sex  number  year\n",
      "1340    Linda   F   99689  1947\n",
      "1360    Linda   F   96211  1948\n",
      "1350    James   M   94757  1947\n",
      "1550  Michael   M   92704  1957\n",
      "1351   Robert   M   91640  1947\n"
     ]
    }
   ],
   "source": [
    "#18\n",
    "df.sort_values(by='number', ascending=False, inplace=True)\n",
    "print(df.head())"
   ]
  },
  {
   "cell_type": "code",
   "execution_count": 10,
   "metadata": {},
   "outputs": [
    {
     "name": "stdout",
     "output_type": "stream",
     "text": [
      "James      118\n",
      "William    111\n",
      "Robert     108\n",
      "John       108\n",
      "Mary        92\n",
      "          ... \n",
      "Lori         1\n",
      "Laura        1\n",
      "Scott        1\n",
      "Tracy        1\n",
      "Rachel       1\n",
      "Name: name, Length: 136, dtype: int64\n"
     ]
    }
   ],
   "source": [
    "#19\n",
    "print(df['name'].value_counts())"
   ]
  },
  {
   "cell_type": "code",
   "execution_count": null,
   "metadata": {},
   "outputs": [],
   "source": []
  }
 ],
 "metadata": {
  "kernelspec": {
   "display_name": "Python 3",
   "language": "python",
   "name": "python3"
  },
  "language_info": {
   "codemirror_mode": {
    "name": "ipython",
    "version": 3
   },
   "file_extension": ".py",
   "mimetype": "text/x-python",
   "name": "python",
   "nbconvert_exporter": "python",
   "pygments_lexer": "ipython3",
   "version": "3.7.9"
  }
 },
 "nbformat": 4,
 "nbformat_minor": 4
}
