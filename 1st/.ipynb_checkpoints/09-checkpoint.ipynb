{
 "cells": [
  {
   "cell_type": "code",
   "execution_count": 80,
   "metadata": {},
   "outputs": [],
   "source": [
    "import random"
   ]
  },
  {
   "cell_type": "code",
   "execution_count": 81,
   "metadata": {},
   "outputs": [],
   "source": [
    "def TypoglycemiaPermalink(word):\n",
    "    output=\"\"\n",
    "    if len(word)<4:\n",
    "        output=word\n",
    "    else:\n",
    "        output=word[0]+\"\".join(random.sample(word[1:len(word)-1], k=(len(word)-2)))+word[len(word)-1]\n",
    "    \n",
    "    return output"
   ]
  },
  {
   "cell_type": "code",
   "execution_count": 82,
   "metadata": {},
   "outputs": [
    {
     "name": "stdout",
     "output_type": "stream",
     "text": [
      "I con’ludt bvleeie that I could acutally uatdnrnesd what I was rnediag : the pemenoanhl power of the hamun mnid .\n"
     ]
    }
   ],
   "source": [
    "def main():\n",
    "    input_word=\"I couldn’t believe that I could actually understand what I was reading : the phenomenal power of the human mind .\"\n",
    "    \n",
    "    Text=input_word.split()\n",
    "    out_word=[]\n",
    "    for i in range(len(Text)):\n",
    "        out_word.append(TypoglycemiaPermalink(Text[i]))\n",
    "    \n",
    "    print(\" \".join(out_word))\n",
    "    \n",
    "main()"
   ]
  },
  {
   "cell_type": "code",
   "execution_count": null,
   "metadata": {},
   "outputs": [],
   "source": []
  }
 ],
 "metadata": {
  "kernelspec": {
   "display_name": "Python 3",
   "language": "python",
   "name": "python3"
  },
  "language_info": {
   "codemirror_mode": {
    "name": "ipython",
    "version": 3
   },
   "file_extension": ".py",
   "mimetype": "text/x-python",
   "name": "python",
   "nbconvert_exporter": "python",
   "pygments_lexer": "ipython3",
   "version": "3.7.7"
  }
 },
 "nbformat": 4,
 "nbformat_minor": 4
}
