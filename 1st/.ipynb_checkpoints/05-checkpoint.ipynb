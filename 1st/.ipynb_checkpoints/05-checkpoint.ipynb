{
 "cells": [
  {
   "cell_type": "code",
   "execution_count": 2,
   "metadata": {},
   "outputs": [
    {
     "name": "stderr",
     "output_type": "stream",
     "text": [
      "[nltk_data] Downloading package punkt to /Users/mugikura/nltk_data...\n",
      "[nltk_data]   Package punkt is already up-to-date!\n"
     ]
    },
    {
     "data": {
      "text/plain": [
       "True"
      ]
     },
     "execution_count": 2,
     "metadata": {},
     "output_type": "execute_result"
    }
   ],
   "source": [
    "import nltk\n",
    "nltk.download('punkt')"
   ]
  },
  {
   "cell_type": "code",
   "execution_count": 25,
   "metadata": {},
   "outputs": [
    {
     "name": "stdout",
     "output_type": "stream",
     "text": [
      "2\n",
      "単語bi-gramの作成\n",
      "Iam\n",
      "aman\n",
      "anNLPer\n",
      "\n",
      "文字bi-gram\n",
      "Ia\n",
      "am\n",
      "ma\n",
      "an\n",
      "nN\n",
      "NL\n",
      "LP\n",
      "Pe\n",
      "er\n"
     ]
    }
   ],
   "source": [
    "Text=\"I am an NLPer\"\n",
    "number_gram=int(input())\n",
    "Text_Renew=nltk.word_tokenize(Text)\n",
    "\n",
    "#単語bi-gramの作成\n",
    "print(\"単語bi-gramの作成\")\n",
    "for i in range(len(Text_Renew)-(number_gram-1)):\n",
    "    output=\"\"\n",
    "    for j in range(number_gram):\n",
    "        output=output+Text_Renew[i+j]\n",
    "        \n",
    "    print(output)\n",
    "\n",
    "print(\"\")\n",
    "#文字bi-gram\n",
    "print(\"文字bi-gram\")\n",
    "Text=Text.replace(\" \",\"\")\n",
    "for i in range(len(Text)-1):\n",
    "    output=\"\"\n",
    "    for j in range(number_gram):\n",
    "        output=output+Text[i+j]\n",
    "        \n",
    "    print(output)"
   ]
  }
 ],
 "metadata": {
  "kernelspec": {
   "display_name": "Python 3",
   "language": "python",
   "name": "python3"
  },
  "language_info": {
   "codemirror_mode": {
    "name": "ipython",
    "version": 3
   },
   "file_extension": ".py",
   "mimetype": "text/x-python",
   "name": "python",
   "nbconvert_exporter": "python",
   "pygments_lexer": "ipython3",
   "version": "3.7.7"
  }
 },
 "nbformat": 4,
 "nbformat_minor": 4
}
