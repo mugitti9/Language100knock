{
 "cells": [
  {
   "cell_type": "code",
   "execution_count": 1,
   "metadata": {},
   "outputs": [
    {
     "name": "stderr",
     "output_type": "stream",
     "text": [
      "[nltk_data] Downloading package punkt to /Users/mugikura/nltk_data...\n",
      "[nltk_data]   Package punkt is already up-to-date!\n"
     ]
    },
    {
     "data": {
      "text/plain": [
       "True"
      ]
     },
     "execution_count": 1,
     "metadata": {},
     "output_type": "execute_result"
    }
   ],
   "source": [
    "import nltk\n",
    "nltk.download('punkt')"
   ]
  },
  {
   "cell_type": "code",
   "execution_count": 9,
   "metadata": {},
   "outputs": [
    {
     "name": "stdout",
     "output_type": "stream",
     "text": [
      "H\n",
      "He\n",
      "Li\n",
      "Be\n",
      "B\n",
      "C\n",
      "N\n",
      "O\n",
      "F\n",
      "Ne\n",
      "Na\n",
      "Mi\n",
      "Al\n",
      "Si\n",
      "P\n",
      "S\n",
      "Cl\n",
      "Ar\n",
      "K\n",
      "Ca\n"
     ]
    }
   ],
   "source": [
    "Text=\"Hi He Lied Because Boron Could Not Oxidize Fluorine. New Nations Might Also Sign Peace Security Clause. Arthur King Can.\"\n",
    "Text=Text.replace(',', '')\n",
    "Text=Text.replace('.', '')\n",
    "Text_Renew=nltk.word_tokenize(Text)\n",
    "\n",
    "Number_List=[1, 5, 6, 7, 8, 9, 15, 16, 19]\n",
    "\n",
    "for i in range(len(Number_List)):\n",
    "    Number_List[i]=Number_List[i]-1\n",
    "\n",
    "dictionary={}\n",
    "\n",
    "for i in range(len(Text_Renew)):\n",
    "    disp_Word=Text_Renew[i]\n",
    "    if i in Number_List:\n",
    "        print(disp_Word[0:1])\n",
    "        dictionary[disp_Word[0:1]]=i\n",
    "    else:\n",
    "        print(disp_Word[0:2])\n",
    "        dictionary[disp_Word[0:2]]=i\n",
    "        \n",
    "print(dictionary)"
   ]
  }
 ],
 "metadata": {
  "kernelspec": {
   "display_name": "Python 3",
   "language": "python",
   "name": "python3"
  },
  "language_info": {
   "codemirror_mode": {
    "name": "ipython",
    "version": 3
   },
   "file_extension": ".py",
   "mimetype": "text/x-python",
   "name": "python",
   "nbconvert_exporter": "python",
   "pygments_lexer": "ipython3",
   "version": "3.7.7"
  }
 },
 "nbformat": 4,
 "nbformat_minor": 4
}
