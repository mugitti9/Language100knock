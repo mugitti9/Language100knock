{
 "cells": [
  {
   "cell_type": "code",
   "execution_count": 1,
   "metadata": {},
   "outputs": [
    {
     "name": "stdout",
     "output_type": "stream",
     "text": [
      "xの値\n",
      "12\n",
      "yの値\n",
      "気温\n",
      "zの値\n",
      "12\n",
      "12時の気温は12\n"
     ]
    }
   ],
   "source": [
    "print(\"xの値\")\n",
    "x=input()\n",
    "print(\"yの値\")\n",
    "y=input()\n",
    "print(\"zの値\")\n",
    "z=input()\n",
    "\n",
    "output=x+\"時の\"+y+\"は\"+z\n",
    "print(output)"
   ]
  },
  {
   "cell_type": "code",
   "execution_count": null,
   "metadata": {},
   "outputs": [],
   "source": []
  }
 ],
 "metadata": {
  "kernelspec": {
   "display_name": "Python 3",
   "language": "python",
   "name": "python3"
  },
  "language_info": {
   "codemirror_mode": {
    "name": "ipython",
    "version": 3
   },
   "file_extension": ".py",
   "mimetype": "text/x-python",
   "name": "python",
   "nbconvert_exporter": "python",
   "pygments_lexer": "ipython3",
   "version": "3.7.7"
  }
 },
 "nbformat": 4,
 "nbformat_minor": 4
}
