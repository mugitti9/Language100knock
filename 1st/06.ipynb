{
 "cells": [
  {
   "cell_type": "code",
   "execution_count": 2,
   "metadata": {},
   "outputs": [
    {
     "name": "stderr",
     "output_type": "stream",
     "text": [
      "[nltk_data] Downloading package punkt to /Users/mugikura/nltk_data...\n",
      "[nltk_data]   Package punkt is already up-to-date!\n"
     ]
    },
    {
     "data": {
      "text/plain": [
       "True"
      ]
     },
     "execution_count": 2,
     "metadata": {},
     "output_type": "execute_result"
    }
   ],
   "source": [
    "import nltk\n",
    "nltk.download('punkt')"
   ]
  },
  {
   "cell_type": "code",
   "execution_count": 24,
   "metadata": {},
   "outputs": [
    {
     "name": "stdout",
     "output_type": "stream",
     "text": [
      "和集合\n",
      "{'ag', 'is', 'ph', 'ap', 'ar', 'pa', 'gr', 'ra', 'di', 'se', 'ad'}\n",
      "積集合\n",
      "{'ra', 'pa', 'ap', 'ar'}\n",
      "差集合\n",
      "{'is', 'ad', 'se', 'di'}\n",
      "\n",
      "Xにseが含まれているか\n",
      "True\n",
      "Yにseが含まれているか\n",
      "False\n"
     ]
    }
   ],
   "source": [
    "X=\"paraparaparadise\"\n",
    "Y=\"paragraph\"\n",
    "number_gram=int(2)\n",
    "\n",
    "#Xの文字bi-gram\n",
    "X_bigram=[]\n",
    "X=X.replace(\" \",\"\")\n",
    "for i in range(len(X)-1):\n",
    "    output=\"\"\n",
    "    for j in range(2):\n",
    "        output=output+X[i+j]\n",
    "        \n",
    "    X_bigram.append(output)\n",
    "X_set = set(X_bigram)\n",
    "    \n",
    "#Yの文字bi-gram\n",
    "Y_bigram=[]\n",
    "Y=Y.replace(\" \",\"\")\n",
    "for i in range(len(Y)-1):\n",
    "    output=\"\"\n",
    "    for j in range(2):\n",
    "        output=output+Y[i+j]\n",
    "        \n",
    "    Y_bigram.append(output)\n",
    "Y_set = set(Y_bigram)\n",
    "    \n",
    "print(\"和集合\")\n",
    "print(X_set|Y_set)\n",
    "print(\"積集合\")\n",
    "print(X_set&Y_set)\n",
    "print(\"差集合\")\n",
    "print(X_set-Y_set)\n",
    "\n",
    "print(\"\")\n",
    "print(\"Xにseが含まれているか\")\n",
    "print(\"se\" in X_bigram)\n",
    "print(\"Yにseが含まれているか\")\n",
    "print(\"se\" in Y_bigram)"
   ]
  },
  {
   "cell_type": "code",
   "execution_count": null,
   "metadata": {},
   "outputs": [],
   "source": []
  }
 ],
 "metadata": {
  "kernelspec": {
   "display_name": "Python 3",
   "language": "python",
   "name": "python3"
  },
  "language_info": {
   "codemirror_mode": {
    "name": "ipython",
    "version": 3
   },
   "file_extension": ".py",
   "mimetype": "text/x-python",
   "name": "python",
   "nbconvert_exporter": "python",
   "pygments_lexer": "ipython3",
   "version": "3.7.7"
  }
 },
 "nbformat": 4,
 "nbformat_minor": 4
}
